{
 "cells": [
  {
   "cell_type": "code",
   "execution_count": 1,
   "metadata": {},
   "outputs": [],
   "source": [
    "# 最も基本的なベイズ定理のpython実装\n",
    "# https://qiita.com/tadOne/items/dcff3e52ea4956008519\n",
    "\n",
    "# 袋の種類\n",
    "BAG_A = 0\n",
    "BAG_B = 1\n",
    "\n",
    "# 玉の色\n",
    "BALL_RED = 0\n",
    "BALL_WHITE = 1\n",
    "\n",
    "# 袋を選ぶ確率\n",
    "_prob_bag = []\n",
    "_prob_bag.insert(BAG_A, 1/2)\n",
    "_prob_bag.insert(BAG_B, 1/2)\n",
    "\n",
    "# 袋内の玉の色を選ぶ確率\n",
    "_prob_ball = []\n",
    "\n",
    "_prob_ball_a = []\n",
    "_prob_ball_a.insert(BALL_RED, 2/3)\n",
    "_prob_ball_a.insert(BALL_WHITE, 1/3)\n",
    "_prob_ball.insert(BAG_A, _prob_ball_a)\n",
    "\n",
    "_prob_ball_b = []\n",
    "_prob_ball_b.insert(BALL_RED, 1/4)\n",
    "_prob_ball_b.insert(BALL_WHITE, 3/4)\n",
    "_prob_ball.insert(BAG_B, _prob_ball_b)"
   ]
  },
  {
   "cell_type": "code",
   "execution_count": 2,
   "metadata": {},
   "outputs": [],
   "source": [
    "# 事後確率を計算する\n",
    "def posterior(ball_list, bag):\n",
    "    if len(ball_list) == 1:\n",
    "        return _prob_ball[bag][ball_list[0]] * _prob_bag[bag]\n",
    "    else:\n",
    "        return _prob_ball[bag][ball_list[0]] * posterior(ball_list[1:], bag)\n",
    "\n",
    "# 袋Aが選ばれる確率を計算する\n",
    "def posterior_a(ball_list):\n",
    "    return posterior(ball_list, BAG_A) / (posterior(ball_list, BAG_A) + posterior(ball_list, BAG_B))"
   ]
  },
  {
   "cell_type": "code",
   "execution_count": 3,
   "metadata": {},
   "outputs": [
    {
     "data": {
      "text/plain": [
       "0.7272727272727273"
      ]
     },
     "execution_count": 3,
     "metadata": {},
     "output_type": "execute_result"
    }
   ],
   "source": [
    "ball = [BALL_RED] * 1\n",
    "posterior_a(ball)"
   ]
  },
  {
   "cell_type": "code",
   "execution_count": 4,
   "metadata": {},
   "outputs": [
    {
     "data": {
      "text/plain": [
       "0.9221091861712114"
      ]
     },
     "execution_count": 4,
     "metadata": {},
     "output_type": "execute_result"
    }
   ],
   "source": [
    "ball = [BALL_RED] * 5\n",
    "ball.extend([BALL_WHITE] * 3)\n",
    "\n",
    "posterior_a(ball)"
   ]
  },
  {
   "cell_type": "code",
   "execution_count": 5,
   "metadata": {},
   "outputs": [
    {
     "data": {
      "text/plain": [
       "0.9999956995134158"
      ]
     },
     "execution_count": 5,
     "metadata": {},
     "output_type": "execute_result"
    }
   ],
   "source": [
    "ball = [BALL_RED] * 5 * 5\n",
    "ball.extend([BALL_WHITE] * 3 * 5)\n",
    "\n",
    "posterior_a(ball)"
   ]
  },
  {
   "cell_type": "code",
   "execution_count": null,
   "metadata": {},
   "outputs": [],
   "source": []
  }
 ],
 "metadata": {
  "kernelspec": {
   "display_name": "Python 3",
   "language": "python",
   "name": "python3"
  },
  "language_info": {
   "codemirror_mode": {
    "name": "ipython",
    "version": 3
   },
   "file_extension": ".py",
   "mimetype": "text/x-python",
   "name": "python",
   "nbconvert_exporter": "python",
   "pygments_lexer": "ipython3",
   "version": "3.7.6"
  },
  "toc": {
   "nav_menu": {},
   "number_sections": true,
   "sideBar": true,
   "skip_h1_title": false,
   "title_cell": "Table of Contents",
   "title_sidebar": "Contents",
   "toc_cell": false,
   "toc_position": {},
   "toc_section_display": true,
   "toc_window_display": false
  }
 },
 "nbformat": 4,
 "nbformat_minor": 2
}
